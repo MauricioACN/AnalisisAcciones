{
 "cells": [
  {
   "cell_type": "code",
   "execution_count": 283,
   "metadata": {},
   "outputs": [],
   "source": [
    "import pandas as pd\n",
    "import numpy as np\n",
    "import matplotlib.pyplot as plt\n",
    "\n",
    "import itertools\n",
    "\n",
    "\n",
    "from statsmodels.tsa.stattools import grangercausalitytests, coint\n",
    "from statsmodels.tsa.vector_ar.vecm import coint_johansen\n",
    "\n",
    "# estacionarieidad\n",
    "from statsmodels.tsa.stattools import adfuller\n",
    "from statsmodels.tsa.api import VAR\n",
    "\n",
    "# test durbin watson\n",
    "from statsmodels.stats.stattools import durbin_watson"
   ]
  },
  {
   "cell_type": "code",
   "execution_count": 2,
   "metadata": {},
   "outputs": [],
   "source": [
    "df = pd.read_excel(\"../Datos/Acciones.xlsx\",sheet_name=0)"
   ]
  },
  {
   "cell_type": "code",
   "execution_count": 327,
   "metadata": {},
   "outputs": [],
   "source": [
    "class Portafolio:\n",
    "\n",
    "    INDICES = [\"76_CHL_IGPA_INDICE\",\"77_COL_COLCAP_INDICE\",\"78_MEX_IPC_INDICE\",\"79_PER_LIMA GENER_INDICE\"]\n",
    "    PERIODO = [\"PERIODO\"]\n",
    "\n",
    "    def __init__(self,df):\n",
    "        self.df = df\n",
    "        self.tickers_info_full = self.df.columns.to_list()\n",
    "        self.tickers_info_full.remove(\"PERIODO\")\n",
    "        [self.tickers_info_full.remove(indice) for indice in Portafolio.INDICES]\n",
    "        self.df_final = self.df[self.tickers_info_full]\n",
    "    \n",
    "    def create_df_tickers(self,list_tickers):\n",
    "        tickers_info_df = pd.DataFrame(list_tickers, columns = [\"column_id\"])\n",
    "        tickers_info_df[\"pais\"] = tickers_info_df[\"column_id\"].apply(lambda x: x.split(\"_\")[1])\n",
    "        self.tickers_info_df = tickers_info_df\n",
    "\n",
    "    def permutations_tickers(self, *args, **kwargs):\n",
    "        s = list(itertools.permutations(*args, **kwargs))\n",
    "        ids = dict()\n",
    "        for id in s:\n",
    "            value_1 = id[0].split(\"_\")[1]\n",
    "            value_2 = id[1].split(\"_\")[1]\n",
    "            if value_1==value_2:\n",
    "                ids[id] = 1\n",
    "            else:\n",
    "                ids[id] = 0\n",
    "\n",
    "        ids_filters = [id for id in ids if ids[id] == 0]\n",
    "        self.ids_filters = ids_filters\n",
    "        \n",
    "    def analysis_df(self,par_var):\n",
    "        lista = Portafolio.PERIODO.copy()\n",
    "        lista.extend(par_var)\n",
    "        new_df = self.df.copy()\n",
    "        new_df = new_df[lista]\n",
    "        new_df = new_df.set_index(\"PERIODO\")\n",
    "        return new_df\n",
    "        \n",
    "    def transform_df(self,df,type_transform=None,remove_na=None):\n",
    "        \n",
    "        df_edit = df.copy()\n",
    "        new_columns_org = df_edit.columns.tolist()\n",
    "\n",
    "        if type_transform==\"returns\":            \n",
    "            new_columns = [\"returns_\"+column for column in new_columns_org]\n",
    "\n",
    "            for column in new_columns:\n",
    "                df_edit[column] = np.log(df_edit[column.replace(\"returns_\",\"\")]).diff()\n",
    "        \n",
    "        elif type_transform==\"diff\":\n",
    "            new_columns = [\"diff_\"+column for column in new_columns_org]\n",
    "\n",
    "            for column in new_columns:\n",
    "                df_edit[column] = df_edit[column.replace(\"diff_\",\"\")].diff()\n",
    "\n",
    "        if type_transform:\n",
    "            df_edit.drop(new_columns_org,axis=1,inplace=True)\n",
    "        \n",
    "        # calidad de la salida\n",
    "        print(\"Nas:\",df_edit.isna().sum())\n",
    "\n",
    "        if remove_na:\n",
    "            df_edit.dropna(inplace=True,axis=0)\n",
    "            print(\"Correccion\")\n",
    "            print(\"Nas:\",df_edit.isna().sum())\n",
    "\n",
    "        self.apply_all(inside=True,df=df_edit.columns.tolist())\n",
    "        \n",
    "        return df_edit\n",
    "        \n",
    "    def apply_test(self,type,*args,**kwargs):\n",
    "\n",
    "        if type==\"granger-causality\":\n",
    "\n",
    "            results = grangercausalitytests(*args,**kwargs)\n",
    "\n",
    "        elif type==\"granger-cointegration\":\n",
    "            \n",
    "            results = coint(*args,**kwargs)\n",
    "\n",
    "        elif type==\"johansen-cointegration\":\n",
    "            \n",
    "            results = coint_johansen(*args,**kwargs)\n",
    "\n",
    "        elif type==\"response\":\n",
    "            pass\n",
    "\n",
    "        return results       \n",
    "\n",
    "    def apply_all(self,inside=False,df=None):\n",
    "\n",
    "        if inside:\n",
    "            self.create_df_tickers(list_tickers=df)\n",
    "            self.permutations_tickers(iterable=self.tickers_info_df[\"column_id\"],r=2)\n",
    "        \n",
    "        else:\n",
    "            self.create_df_tickers(list_tickers=self.tickers_info_full)\n",
    "            self.permutations_tickers(iterable=self.tickers_info_df[\"column_id\"],r=2)"
   ]
  },
  {
   "cell_type": "code",
   "execution_count": 328,
   "metadata": {},
   "outputs": [],
   "source": [
    "Portafolio = Portafolio(df)\n",
    "Portafolio.apply_all()"
   ]
  },
  {
   "cell_type": "markdown",
   "metadata": {},
   "source": [
    "# Diferencias vs Rendimientos"
   ]
  },
  {
   "cell_type": "code",
   "execution_count": 367,
   "metadata": {},
   "outputs": [
    {
     "name": "stdout",
     "output_type": "stream",
     "text": [
      "Nas: returns_1_CHL_AGUAS_SERV. P              1\n",
      "returns_2_CHL_ANDINA_CONS. BAS           1\n",
      "returns_3_CHL_ANTAR_ENER                 1\n",
      "returns_4_CHL_BANCO CREDITO_FINAN        1\n",
      "returns_5_CHL_BANCO STDER_FINAN          1\n",
      "                                        ..\n",
      "returns_71_PER_FERREYROS_INDUST          1\n",
      "returns_72_PER_ACEROS AREQUIPA_MATER     1\n",
      "returns_73_PER_EMP. SIDERURGICA_MATER    1\n",
      "returns_74_PER_CASA GRANDE_CONS. BAS     1\n",
      "returns_75_PER_TREVALI MINING_MATER      1\n",
      "Length: 75, dtype: int64\n",
      "Correccion\n",
      "Nas: returns_1_CHL_AGUAS_SERV. P              0\n",
      "returns_2_CHL_ANDINA_CONS. BAS           0\n",
      "returns_3_CHL_ANTAR_ENER                 0\n",
      "returns_4_CHL_BANCO CREDITO_FINAN        0\n",
      "returns_5_CHL_BANCO STDER_FINAN          0\n",
      "                                        ..\n",
      "returns_71_PER_FERREYROS_INDUST          0\n",
      "returns_72_PER_ACEROS AREQUIPA_MATER     0\n",
      "returns_73_PER_EMP. SIDERURGICA_MATER    0\n",
      "returns_74_PER_CASA GRANDE_CONS. BAS     0\n",
      "returns_75_PER_TREVALI MINING_MATER      0\n",
      "Length: 75, dtype: int64\n"
     ]
    }
   ],
   "source": [
    "# vars = list(Portafolio.ids_filters[0])\n",
    "# a = Portafolio.analysis_df(par_var = vars)\n",
    "b = Portafolio.transform_df(df=Portafolio.df_final, type_transform=\"returns\",remove_na=True)"
   ]
  },
  {
   "cell_type": "code",
   "execution_count": 368,
   "metadata": {},
   "outputs": [
    {
     "name": "stdout",
     "output_type": "stream",
     "text": [
      "returns_1_CHL_AGUAS_SERV. P\n",
      "returns_2_CHL_ANDINA_CONS. BAS\n",
      "returns_3_CHL_ANTAR_ENER\n",
      "returns_4_CHL_BANCO CREDITO_FINAN\n",
      "returns_5_CHL_BANCO STDER_FINAN\n",
      "returns_6_CHL_CAP_MATER\n",
      "returns_7_CHL_CIA CERVECERIAS_CONS. BAS\n",
      "returns_8_CHL_CENCOSUD_CONS. BAS\n",
      "returns_9_CHL_BANCO_CHILE_FINAN\n",
      "returns_10_CHL_CMPC_MATER\n",
      "returns_11_CHL_COLBUN_SERV. P\n",
      "returns_12_CHL_COPEC_ENER\n",
      "returns_13_CHL_ENEL_SERV. P\n",
      "returns_14_CHL_FALABELLA_CONS. DISCRE\n",
      "returns_15_CHL_VALPARAISO_SERV. P\n",
      "returns_16_CHL_QUINENCO_FINAN\n",
      "returns_17_CHL_SOC. QUIM. Y MIN_MATER\n",
      "returns_18_CHL_VAPORES_INDUST\n",
      "returns_19_CHL_ITAU_FINAN\n",
      "returns_20_CHL_EMP. NAL. ELECTRIC_SERV. P\n",
      "returns_21_CHL_VIÑA CONCHA Y TORO_CONS. BAS\n",
      "returns_22_CHL_ENTEL_COMUNIC\n",
      "returns_23_CHL_PARQUE ARAUCO_INMOBIL\n",
      "returns_24_CHL_KOPPERS_MATER\n",
      "returns_25_CHL_NORTE GRANDE_FINAN\n",
      "returns_26_CHL_ORO BLANCO_FINAN\n",
      "returns_27_CHL_SAAM_INDUST\n",
      "returns_28_CHL_ENGIE ENERGIA_SERV. P\n",
      "returns_29_CHL_SECURITY_FINAN\n",
      "returns_30_CHL_EMBONOR_CONS. BAS\n",
      "returns_31_CHL_INVER. AGUAS_SERV. P\n",
      "returns_32_COL_BANCOLOMBIA_FINAN\n",
      "returns_33_COL_ECOPETROL_ENER\n",
      "returns_34_COL_ENER. BOGOTA_SERV. P\n",
      "returns_35_COL_SURAMERICANA_FINAN\n",
      "returns_36_COL_INTERCON. ELECTRICA_INDUST\n",
      "returns_37_COL_NUTRESA_CONS. BAS\n",
      "returns_38_COL_DAVIVIENDA_FINAN\n",
      "returns_39_COL_INVER. ARGOS_MATER\n",
      "returns_40_COL_CORFICOL_FINAN\n",
      "returns_41_COL_ARGOS_MATER\n",
      "returns_42_MEX_ARCA_CONS. BAS\n",
      "returns_43_MEX_MOVIL_TELECOM\n",
      "returns_44_MEX_BIMBO_CONS. BAS\n",
      "returns_45_MEX_BANCO STDER_FINAN\n",
      "returns_46_MEX_CEMEX_MATER\n",
      "returns_47_MEX_ELEKTRA_FINAN\n",
      "returns_48_MEX_FOMENTO ECO_CONS. BAS\n",
      "returns_49_MEX_AEREO PACIFICO_INDUST\n",
      "returns_50_MEX_GRUPO CARSO_CONS. DISCRE\n",
      "returns_51_MEX_INBURSA_FINAN\n",
      "returns_52_MEX_BANORTE_FINAN\n",
      "returns_53_MEX_GRUPO MEXICO_MATER\n",
      "returns_54_MEX_COCA-COLA FEMSA_CONS. BAS\n",
      "returns_55_MEX_WALMEX_CONS. BAS\n",
      "returns_56_MEX_AEREO SURESTE_INDUST\n",
      "returns_57_MEX_MEGACABLE_COMUNIC\n",
      "returns_58_MEX_PTO LIVERPOOL_CONS. DISCRE\n",
      "returns_59_PER_ALICORP_CONS. BAS\n",
      "returns_60_PER_CREDICORP_FINAN\n",
      "returns_61_PER_BBVA_FINAN\n",
      "returns_62_PER_BANCO CREDITO_FINAN\n",
      "returns_63_PER_CERRO VERDE_MATER\n",
      "returns_64_PER_LUZ DEL SUR_SERV. P\n",
      "returns_65_PER_COPPER_MATER\n",
      "returns_66_PER_MINAS BUENAV._MATER\n",
      "returns_67_PER_MINSUR_MATER\n",
      "returns_68_PER_CEMENTOS LIMA_MATER\n",
      "returns_69_PER_VOLCAN_MATER\n",
      "returns_70_PER_PACASMAYO_MATER\n",
      "returns_71_PER_FERREYROS_INDUST\n",
      "returns_72_PER_ACEROS AREQUIPA_MATER\n",
      "returns_73_PER_EMP. SIDERURGICA_MATER\n",
      "returns_74_PER_CASA GRANDE_CONS. BAS\n",
      "returns_75_PER_TREVALI MINING_MATER\n"
     ]
    }
   ],
   "source": [
    "# pruebas de estacionarieidad para todas las series\n",
    "results_adftest = {}\n",
    "for column in b.columns.tolist():\n",
    "    print(column)\n",
    "    adf = adfuller(b[column])\n",
    "    results_adftest[column] = adf[1]\n",
    "\n",
    "vals = np.fromiter(results_adftest.values(), dtype=float)"
   ]
  },
  {
   "cell_type": "code",
   "execution_count": 371,
   "metadata": {},
   "outputs": [
    {
     "name": "stderr",
     "output_type": "stream",
     "text": [
      "d:\\AnalisisAcciones\\acciones\\lib\\site-packages\\statsmodels\\tsa\\base\\tsa_model.py:471: ValueWarning: An unsupported index was provided and will be ignored when e.g. forecasting.\n",
      "  self._init_dates(dates, freq)\n"
     ]
    }
   ],
   "source": [
    "from statsmodels.tsa.api import VAR\n",
    "\n",
    "models_results_by_lags = {}\n",
    "\n",
    "model = VAR(b)\n",
    "for i in [1,2,3,4,5,6,7,8,9,10,11,12,13,14,15]:\n",
    "    result = model.fit(i)\n",
    "    models_results_by_lags[i] = {\"AIC\":result.aic,\n",
    "                        \"BIC\":result.bic,\n",
    "                        'FPE': result.fpe,\n",
    "                        'HQIC':result.hqic}"
   ]
  },
  {
   "cell_type": "code",
   "execution_count": 376,
   "metadata": {},
   "outputs": [],
   "source": [
    "list_AIC = [abs(models_results_by_lags[id][\"AIC\"]) for id in np.arange(1,16)]"
   ]
  },
  {
   "cell_type": "code",
   "execution_count": 379,
   "metadata": {},
   "outputs": [
    {
     "data": {
      "text/plain": [
       "[618.3073087949932,\n",
       " 616.9141173260924,\n",
       " 615.1949559663151,\n",
       " 613.3787952440716,\n",
       " 611.7700071875196,\n",
       " 610.3230001169392,\n",
       " 608.9119359891135,\n",
       " 607.9100451532619,\n",
       " 607.0225568099492,\n",
       " 606.5031448432983,\n",
       " 606.4001269255513,\n",
       " 606.8308673308542,\n",
       " 607.8814499529354,\n",
       " 609.798145334646,\n",
       " 612.1699966076064]"
      ]
     },
     "execution_count": 379,
     "metadata": {},
     "output_type": "execute_result"
    }
   ],
   "source": [
    "list_AIC"
   ]
  },
  {
   "cell_type": "code",
   "execution_count": 380,
   "metadata": {},
   "outputs": [],
   "source": [
    "results = model.fit(maxlags=11, ic='aic')"
   ]
  },
  {
   "cell_type": "code",
   "execution_count": 382,
   "metadata": {},
   "outputs": [],
   "source": [
    "out = durbin_watson(results.resid)\n",
    "df_out = pd.DataFrame(out, columns={\"result\"})"
   ]
  },
  {
   "cell_type": "code",
   "execution_count": 384,
   "metadata": {},
   "outputs": [],
   "source": [
    "df_out[\"no_correlation\"] = df_out[\"result\"].apply(lambda x: x==2.0)"
   ]
  },
  {
   "cell_type": "code",
   "execution_count": 385,
   "metadata": {},
   "outputs": [
    {
     "data": {
      "text/html": [
       "<div>\n",
       "<style scoped>\n",
       "    .dataframe tbody tr th:only-of-type {\n",
       "        vertical-align: middle;\n",
       "    }\n",
       "\n",
       "    .dataframe tbody tr th {\n",
       "        vertical-align: top;\n",
       "    }\n",
       "\n",
       "    .dataframe thead th {\n",
       "        text-align: right;\n",
       "    }\n",
       "</style>\n",
       "<table border=\"1\" class=\"dataframe\">\n",
       "  <thead>\n",
       "    <tr style=\"text-align: right;\">\n",
       "      <th></th>\n",
       "      <th>result</th>\n",
       "    </tr>\n",
       "    <tr>\n",
       "      <th>no_correlation</th>\n",
       "      <th></th>\n",
       "    </tr>\n",
       "  </thead>\n",
       "  <tbody>\n",
       "    <tr>\n",
       "      <th>False</th>\n",
       "      <td>75</td>\n",
       "    </tr>\n",
       "  </tbody>\n",
       "</table>\n",
       "</div>"
      ],
      "text/plain": [
       "                result\n",
       "no_correlation        \n",
       "False               75"
      ]
     },
     "execution_count": 385,
     "metadata": {},
     "output_type": "execute_result"
    }
   ],
   "source": [
    "df_out.groupby(\"no_correlation\").count()"
   ]
  },
  {
   "cell_type": "code",
   "execution_count": 389,
   "metadata": {},
   "outputs": [
    {
     "data": {
      "text/plain": [
       "<AxesSubplot:>"
      ]
     },
     "execution_count": 389,
     "metadata": {},
     "output_type": "execute_result"
    },
    {
     "data": {
      "image/png": "[encoded data removed]",
      "text/plain": [
       "<Figure size 432x288 with 1 Axes>"
      ]
     },
     "metadata": {
      "needs_background": "light"
     },
     "output_type": "display_data"
    }
   ],
   "source": [
    "df_out.plot()"
   ]
  },
  {
   "cell_type": "code",
   "execution_count": 403,
   "metadata": {},
   "outputs": [],
   "source": [
    "maxlag=11\n",
    "test = 'ssr_chi2test'\n",
    "\n",
    "def grangers_causation_matrix(data, test='ssr_chi2test'):    \n",
    "\n",
    "    salida = pd.DataFrame(Portafolio.ids_filters, columns = [\"var1\",\"var2\"])\n",
    "    salida[\"p-value\"] = np.nan\n",
    "\n",
    "    for id,pair in enumerate(Portafolio.ids_filters):\n",
    "        test_result = grangercausalitytests(data[list(pair)], maxlag=[maxlag], verbose=False) # remover parentesis en maxlag\n",
    "        # p_values = [round(test_result[i+1][0][test][1],4) for i in range(maxlag)]     \n",
    "        p_values = round(test_result[maxlag][0][test][1],4)\n",
    "        # min_p_value = np.min(p_values)\n",
    "        # salida.iloc[id,2] = min_p_value\n",
    "        salida.iloc[id,2] = p_values\n",
    "    return salida\n",
    "\n",
    "df_test = grangers_causation_matrix(b)"
   ]
  },
  {
   "cell_type": "code",
   "execution_count": 404,
   "metadata": {},
   "outputs": [],
   "source": [
    "df_test[\"pass_test\"] = df_test[\"p-value\"]<0.05\n",
    "final_df = df_test.copy()\n",
    "final_df = final_df[final_df[\"pass_test\"]==True]\n",
    "final_df[\"pais_var1\"] = final_df[\"var1\"].apply(lambda x: x.split(\"_\")[2])\n",
    "final_df[\"pais_var2\"] = final_df[\"var2\"].apply(lambda x: x.split(\"_\")[2])\n",
    "final_df = final_df[final_df[\"pais_var1\"]!=final_df[\"pais_var2\"]]\n",
    "final_df[\"lista1\"] = final_df[\"var1\"].apply(lambda x: x.join(final_df[\"var2\"]))\n",
    "final_df[\"lista2\"] = final_df[\"var2\"].apply(lambda x: x.join(final_df[\"var1\"]))\n",
    "final_df[\"final_val\"] = final_df[\"lista1\"]==final_df[\"lista2\"]"
   ]
  },
  {
   "cell_type": "code",
   "execution_count": 405,
   "metadata": {},
   "outputs": [
    {
     "data": {
      "text/html": [
       "<div>\n",
       "<style scoped>\n",
       "    .dataframe tbody tr th:only-of-type {\n",
       "        vertical-align: middle;\n",
       "    }\n",
       "\n",
       "    .dataframe tbody tr th {\n",
       "        vertical-align: top;\n",
       "    }\n",
       "\n",
       "    .dataframe thead th {\n",
       "        text-align: right;\n",
       "    }\n",
       "</style>\n",
       "<table border=\"1\" class=\"dataframe\">\n",
       "  <thead>\n",
       "    <tr style=\"text-align: right;\">\n",
       "      <th></th>\n",
       "      <th>var1</th>\n",
       "      <th>var2</th>\n",
       "      <th>p-value</th>\n",
       "    </tr>\n",
       "  </thead>\n",
       "  <tbody>\n",
       "    <tr>\n",
       "      <th>30</th>\n",
       "      <td>returns_1_CHL_AGUAS_SERV. P</td>\n",
       "      <td>returns_32_COL_BANCOLOMBIA_FINAN</td>\n",
       "      <td>0.0009</td>\n",
       "    </tr>\n",
       "    <tr>\n",
       "      <th>31</th>\n",
       "      <td>returns_1_CHL_AGUAS_SERV. P</td>\n",
       "      <td>returns_33_COL_ECOPETROL_ENER</td>\n",
       "      <td>0.0010</td>\n",
       "    </tr>\n",
       "    <tr>\n",
       "      <th>32</th>\n",
       "      <td>returns_1_CHL_AGUAS_SERV. P</td>\n",
       "      <td>returns_34_COL_ENER. BOGOTA_SERV. P</td>\n",
       "      <td>0.0001</td>\n",
       "    </tr>\n",
       "    <tr>\n",
       "      <th>33</th>\n",
       "      <td>returns_1_CHL_AGUAS_SERV. P</td>\n",
       "      <td>returns_35_COL_SURAMERICANA_FINAN</td>\n",
       "      <td>0.0001</td>\n",
       "    </tr>\n",
       "    <tr>\n",
       "      <th>34</th>\n",
       "      <td>returns_1_CHL_AGUAS_SERV. P</td>\n",
       "      <td>returns_36_COL_INTERCON. ELECTRICA_INDUST</td>\n",
       "      <td>0.0000</td>\n",
       "    </tr>\n",
       "    <tr>\n",
       "      <th>...</th>\n",
       "      <td>...</td>\n",
       "      <td>...</td>\n",
       "      <td>...</td>\n",
       "    </tr>\n",
       "    <tr>\n",
       "      <th>5521</th>\n",
       "      <td>returns_75_PER_TREVALI MINING_MATER</td>\n",
       "      <td>returns_46_MEX_CEMEX_MATER</td>\n",
       "      <td>0.0004</td>\n",
       "    </tr>\n",
       "    <tr>\n",
       "      <th>5525</th>\n",
       "      <td>returns_75_PER_TREVALI MINING_MATER</td>\n",
       "      <td>returns_50_MEX_GRUPO CARSO_CONS. DISCRE</td>\n",
       "      <td>0.0430</td>\n",
       "    </tr>\n",
       "    <tr>\n",
       "      <th>5526</th>\n",
       "      <td>returns_75_PER_TREVALI MINING_MATER</td>\n",
       "      <td>returns_51_MEX_INBURSA_FINAN</td>\n",
       "      <td>0.0406</td>\n",
       "    </tr>\n",
       "    <tr>\n",
       "      <th>5527</th>\n",
       "      <td>returns_75_PER_TREVALI MINING_MATER</td>\n",
       "      <td>returns_52_MEX_BANORTE_FINAN</td>\n",
       "      <td>0.0427</td>\n",
       "    </tr>\n",
       "    <tr>\n",
       "      <th>5528</th>\n",
       "      <td>returns_75_PER_TREVALI MINING_MATER</td>\n",
       "      <td>returns_53_MEX_GRUPO MEXICO_MATER</td>\n",
       "      <td>0.0169</td>\n",
       "    </tr>\n",
       "  </tbody>\n",
       "</table>\n",
       "<p>1624 rows × 3 columns</p>\n",
       "</div>"
      ],
      "text/plain": [
       "                                     var1  \\\n",
       "30            returns_1_CHL_AGUAS_SERV. P   \n",
       "31            returns_1_CHL_AGUAS_SERV. P   \n",
       "32            returns_1_CHL_AGUAS_SERV. P   \n",
       "33            returns_1_CHL_AGUAS_SERV. P   \n",
       "34            returns_1_CHL_AGUAS_SERV. P   \n",
       "...                                   ...   \n",
       "5521  returns_75_PER_TREVALI MINING_MATER   \n",
       "5525  returns_75_PER_TREVALI MINING_MATER   \n",
       "5526  returns_75_PER_TREVALI MINING_MATER   \n",
       "5527  returns_75_PER_TREVALI MINING_MATER   \n",
       "5528  returns_75_PER_TREVALI MINING_MATER   \n",
       "\n",
       "                                           var2  p-value  \n",
       "30             returns_32_COL_BANCOLOMBIA_FINAN   0.0009  \n",
       "31                returns_33_COL_ECOPETROL_ENER   0.0010  \n",
       "32          returns_34_COL_ENER. BOGOTA_SERV. P   0.0001  \n",
       "33            returns_35_COL_SURAMERICANA_FINAN   0.0001  \n",
       "34    returns_36_COL_INTERCON. ELECTRICA_INDUST   0.0000  \n",
       "...                                         ...      ...  \n",
       "5521                 returns_46_MEX_CEMEX_MATER   0.0004  \n",
       "5525    returns_50_MEX_GRUPO CARSO_CONS. DISCRE   0.0430  \n",
       "5526               returns_51_MEX_INBURSA_FINAN   0.0406  \n",
       "5527               returns_52_MEX_BANORTE_FINAN   0.0427  \n",
       "5528          returns_53_MEX_GRUPO MEXICO_MATER   0.0169  \n",
       "\n",
       "[1624 rows x 3 columns]"
      ]
     },
     "execution_count": 405,
     "metadata": {},
     "output_type": "execute_result"
    }
   ],
   "source": [
    "stocks_porfolio_1 = final_df[[\"var1\",\"var2\",\"p-value\"]]\n",
    "stocks_porfolio_1"
   ]
  },
  {
   "cell_type": "code",
   "execution_count": 392,
   "metadata": {},
   "outputs": [
    {
     "data": {
      "text/html": [
       "<div>\n",
       "<style scoped>\n",
       "    .dataframe tbody tr th:only-of-type {\n",
       "        vertical-align: middle;\n",
       "    }\n",
       "\n",
       "    .dataframe tbody tr th {\n",
       "        vertical-align: top;\n",
       "    }\n",
       "\n",
       "    .dataframe thead th {\n",
       "        text-align: right;\n",
       "    }\n",
       "</style>\n",
       "<table border=\"1\" class=\"dataframe\">\n",
       "  <thead>\n",
       "    <tr style=\"text-align: right;\">\n",
       "      <th></th>\n",
       "      <th>var1</th>\n",
       "      <th>var2</th>\n",
       "      <th>p-value</th>\n",
       "    </tr>\n",
       "  </thead>\n",
       "  <tbody>\n",
       "    <tr>\n",
       "      <th>30</th>\n",
       "      <td>returns_1_CHL_AGUAS_SERV. P</td>\n",
       "      <td>returns_32_COL_BANCOLOMBIA_FINAN</td>\n",
       "      <td>0.0009</td>\n",
       "    </tr>\n",
       "    <tr>\n",
       "      <th>31</th>\n",
       "      <td>returns_1_CHL_AGUAS_SERV. P</td>\n",
       "      <td>returns_33_COL_ECOPETROL_ENER</td>\n",
       "      <td>0.0003</td>\n",
       "    </tr>\n",
       "    <tr>\n",
       "      <th>32</th>\n",
       "      <td>returns_1_CHL_AGUAS_SERV. P</td>\n",
       "      <td>returns_34_COL_ENER. BOGOTA_SERV. P</td>\n",
       "      <td>0.0000</td>\n",
       "    </tr>\n",
       "    <tr>\n",
       "      <th>33</th>\n",
       "      <td>returns_1_CHL_AGUAS_SERV. P</td>\n",
       "      <td>returns_35_COL_SURAMERICANA_FINAN</td>\n",
       "      <td>0.0000</td>\n",
       "    </tr>\n",
       "    <tr>\n",
       "      <th>34</th>\n",
       "      <td>returns_1_CHL_AGUAS_SERV. P</td>\n",
       "      <td>returns_36_COL_INTERCON. ELECTRICA_INDUST</td>\n",
       "      <td>0.0000</td>\n",
       "    </tr>\n",
       "    <tr>\n",
       "      <th>...</th>\n",
       "      <td>...</td>\n",
       "      <td>...</td>\n",
       "      <td>...</td>\n",
       "    </tr>\n",
       "    <tr>\n",
       "      <th>5526</th>\n",
       "      <td>returns_75_PER_TREVALI MINING_MATER</td>\n",
       "      <td>returns_51_MEX_INBURSA_FINAN</td>\n",
       "      <td>0.0144</td>\n",
       "    </tr>\n",
       "    <tr>\n",
       "      <th>5527</th>\n",
       "      <td>returns_75_PER_TREVALI MINING_MATER</td>\n",
       "      <td>returns_52_MEX_BANORTE_FINAN</td>\n",
       "      <td>0.0030</td>\n",
       "    </tr>\n",
       "    <tr>\n",
       "      <th>5528</th>\n",
       "      <td>returns_75_PER_TREVALI MINING_MATER</td>\n",
       "      <td>returns_53_MEX_GRUPO MEXICO_MATER</td>\n",
       "      <td>0.0016</td>\n",
       "    </tr>\n",
       "    <tr>\n",
       "      <th>5530</th>\n",
       "      <td>returns_75_PER_TREVALI MINING_MATER</td>\n",
       "      <td>returns_55_MEX_WALMEX_CONS. BAS</td>\n",
       "      <td>0.0052</td>\n",
       "    </tr>\n",
       "    <tr>\n",
       "      <th>5531</th>\n",
       "      <td>returns_75_PER_TREVALI MINING_MATER</td>\n",
       "      <td>returns_56_MEX_AEREO SURESTE_INDUST</td>\n",
       "      <td>0.0047</td>\n",
       "    </tr>\n",
       "  </tbody>\n",
       "</table>\n",
       "<p>2228 rows × 3 columns</p>\n",
       "</div>"
      ],
      "text/plain": [
       "                                     var1  \\\n",
       "30            returns_1_CHL_AGUAS_SERV. P   \n",
       "31            returns_1_CHL_AGUAS_SERV. P   \n",
       "32            returns_1_CHL_AGUAS_SERV. P   \n",
       "33            returns_1_CHL_AGUAS_SERV. P   \n",
       "34            returns_1_CHL_AGUAS_SERV. P   \n",
       "...                                   ...   \n",
       "5526  returns_75_PER_TREVALI MINING_MATER   \n",
       "5527  returns_75_PER_TREVALI MINING_MATER   \n",
       "5528  returns_75_PER_TREVALI MINING_MATER   \n",
       "5530  returns_75_PER_TREVALI MINING_MATER   \n",
       "5531  returns_75_PER_TREVALI MINING_MATER   \n",
       "\n",
       "                                           var2  p-value  \n",
       "30             returns_32_COL_BANCOLOMBIA_FINAN   0.0009  \n",
       "31                returns_33_COL_ECOPETROL_ENER   0.0003  \n",
       "32          returns_34_COL_ENER. BOGOTA_SERV. P   0.0000  \n",
       "33            returns_35_COL_SURAMERICANA_FINAN   0.0000  \n",
       "34    returns_36_COL_INTERCON. ELECTRICA_INDUST   0.0000  \n",
       "...                                         ...      ...  \n",
       "5526               returns_51_MEX_INBURSA_FINAN   0.0144  \n",
       "5527               returns_52_MEX_BANORTE_FINAN   0.0030  \n",
       "5528          returns_53_MEX_GRUPO MEXICO_MATER   0.0016  \n",
       "5530            returns_55_MEX_WALMEX_CONS. BAS   0.0052  \n",
       "5531        returns_56_MEX_AEREO SURESTE_INDUST   0.0047  \n",
       "\n",
       "[2228 rows x 3 columns]"
      ]
     },
     "execution_count": 392,
     "metadata": {},
     "output_type": "execute_result"
    }
   ],
   "source": [
    "stocks_porfolio = final_df[[\"var1\",\"var2\",\"p-value\"]]\n",
    "stocks_porfolio"
   ]
  },
  {
   "cell_type": "code",
   "execution_count": 359,
   "metadata": {},
   "outputs": [
    {
     "data": {
      "text/html": [
       "<div>\n",
       "<style scoped>\n",
       "    .dataframe tbody tr th:only-of-type {\n",
       "        vertical-align: middle;\n",
       "    }\n",
       "\n",
       "    .dataframe tbody tr th {\n",
       "        vertical-align: top;\n",
       "    }\n",
       "\n",
       "    .dataframe thead th {\n",
       "        text-align: right;\n",
       "    }\n",
       "</style>\n",
       "<table border=\"1\" class=\"dataframe\">\n",
       "  <thead>\n",
       "    <tr style=\"text-align: right;\">\n",
       "      <th></th>\n",
       "      <th>var1</th>\n",
       "      <th>var2</th>\n",
       "      <th>p-value</th>\n",
       "    </tr>\n",
       "  </thead>\n",
       "  <tbody>\n",
       "    <tr>\n",
       "      <th>34</th>\n",
       "      <td>diff_1_CHL_AGUAS_SERV. P</td>\n",
       "      <td>diff_36_COL_INTERCON. ELECTRICA_INDUST</td>\n",
       "      <td>0.0060</td>\n",
       "    </tr>\n",
       "    <tr>\n",
       "      <th>38</th>\n",
       "      <td>diff_1_CHL_AGUAS_SERV. P</td>\n",
       "      <td>diff_40_COL_CORFICOL_FINAN</td>\n",
       "      <td>0.0355</td>\n",
       "    </tr>\n",
       "    <tr>\n",
       "      <th>41</th>\n",
       "      <td>diff_1_CHL_AGUAS_SERV. P</td>\n",
       "      <td>diff_43_MEX_MOVIL_TELECOM</td>\n",
       "      <td>0.0433</td>\n",
       "    </tr>\n",
       "    <tr>\n",
       "      <th>43</th>\n",
       "      <td>diff_1_CHL_AGUAS_SERV. P</td>\n",
       "      <td>diff_45_MEX_BANCO STDER_FINAN</td>\n",
       "      <td>0.0280</td>\n",
       "    </tr>\n",
       "    <tr>\n",
       "      <th>44</th>\n",
       "      <td>diff_1_CHL_AGUAS_SERV. P</td>\n",
       "      <td>diff_46_MEX_CEMEX_MATER</td>\n",
       "      <td>0.0001</td>\n",
       "    </tr>\n",
       "    <tr>\n",
       "      <th>...</th>\n",
       "      <td>...</td>\n",
       "      <td>...</td>\n",
       "      <td>...</td>\n",
       "    </tr>\n",
       "    <tr>\n",
       "      <th>5481</th>\n",
       "      <td>diff_75_PER_TREVALI MINING_MATER</td>\n",
       "      <td>diff_6_CHL_CAP_MATER</td>\n",
       "      <td>0.0302</td>\n",
       "    </tr>\n",
       "    <tr>\n",
       "      <th>5500</th>\n",
       "      <td>diff_75_PER_TREVALI MINING_MATER</td>\n",
       "      <td>diff_25_CHL_NORTE GRANDE_FINAN</td>\n",
       "      <td>0.0127</td>\n",
       "    </tr>\n",
       "    <tr>\n",
       "      <th>5504</th>\n",
       "      <td>diff_75_PER_TREVALI MINING_MATER</td>\n",
       "      <td>diff_29_CHL_SECURITY_FINAN</td>\n",
       "      <td>0.0145</td>\n",
       "    </tr>\n",
       "    <tr>\n",
       "      <th>5521</th>\n",
       "      <td>diff_75_PER_TREVALI MINING_MATER</td>\n",
       "      <td>diff_46_MEX_CEMEX_MATER</td>\n",
       "      <td>0.0147</td>\n",
       "    </tr>\n",
       "    <tr>\n",
       "      <th>5528</th>\n",
       "      <td>diff_75_PER_TREVALI MINING_MATER</td>\n",
       "      <td>diff_53_MEX_GRUPO MEXICO_MATER</td>\n",
       "      <td>0.0254</td>\n",
       "    </tr>\n",
       "  </tbody>\n",
       "</table>\n",
       "<p>595 rows × 3 columns</p>\n",
       "</div>"
      ],
      "text/plain": [
       "                                  var1  \\\n",
       "34            diff_1_CHL_AGUAS_SERV. P   \n",
       "38            diff_1_CHL_AGUAS_SERV. P   \n",
       "41            diff_1_CHL_AGUAS_SERV. P   \n",
       "43            diff_1_CHL_AGUAS_SERV. P   \n",
       "44            diff_1_CHL_AGUAS_SERV. P   \n",
       "...                                ...   \n",
       "5481  diff_75_PER_TREVALI MINING_MATER   \n",
       "5500  diff_75_PER_TREVALI MINING_MATER   \n",
       "5504  diff_75_PER_TREVALI MINING_MATER   \n",
       "5521  diff_75_PER_TREVALI MINING_MATER   \n",
       "5528  diff_75_PER_TREVALI MINING_MATER   \n",
       "\n",
       "                                        var2  p-value  \n",
       "34    diff_36_COL_INTERCON. ELECTRICA_INDUST   0.0060  \n",
       "38                diff_40_COL_CORFICOL_FINAN   0.0355  \n",
       "41                 diff_43_MEX_MOVIL_TELECOM   0.0433  \n",
       "43             diff_45_MEX_BANCO STDER_FINAN   0.0280  \n",
       "44                   diff_46_MEX_CEMEX_MATER   0.0001  \n",
       "...                                      ...      ...  \n",
       "5481                    diff_6_CHL_CAP_MATER   0.0302  \n",
       "5500          diff_25_CHL_NORTE GRANDE_FINAN   0.0127  \n",
       "5504              diff_29_CHL_SECURITY_FINAN   0.0145  \n",
       "5521                 diff_46_MEX_CEMEX_MATER   0.0147  \n",
       "5528          diff_53_MEX_GRUPO MEXICO_MATER   0.0254  \n",
       "\n",
       "[595 rows x 3 columns]"
      ]
     },
     "execution_count": 359,
     "metadata": {},
     "output_type": "execute_result"
    }
   ],
   "source": [
    "stocks_porfolio = final_df[[\"var1\",\"var2\",\"p-value\"]]\n",
    "stocks_porfolio"
   ]
  },
  {
   "cell_type": "code",
   "execution_count": null,
   "metadata": {},
   "outputs": [],
   "source": []
  },
  {
   "cell_type": "code",
   "execution_count": 365,
   "metadata": {},
   "outputs": [
    {
     "data": {
      "text/plain": [
       "<AxesSubplot:>"
      ]
     },
     "execution_count": 365,
     "metadata": {},
     "output_type": "execute_result"
    },
    {
     "data": {
      "image/png": "[encoded data removed]",
      "text/plain": [
       "<Figure size 432x288 with 1 Axes>"
      ]
     },
     "metadata": {
      "needs_background": "light"
     },
     "output_type": "display_data"
    }
   ],
   "source": [
    "# Portafolio.df[\"1_CHL_AGUAS_SERV. P\"].plot()\n",
    "b[\"diff_1_CHL_AGUAS_SERV. P\"].plot()"
   ]
  },
  {
   "cell_type": "code",
   "execution_count": 366,
   "metadata": {},
   "outputs": [
    {
     "data": {
      "text/plain": [
       "<AxesSubplot:>"
      ]
     },
     "execution_count": 366,
     "metadata": {},
     "output_type": "execute_result"
    },
    {
     "data": {
      "image/png": "[encoded data removed]",
      "text/plain": [
       "<Figure size 432x288 with 1 Axes>"
      ]
     },
     "metadata": {
      "needs_background": "light"
     },
     "output_type": "display_data"
    }
   ],
   "source": [
    "# Portafolio.df[\"36_COL_INTERCON. ELECTRICA_INDUST\"].plot()\n",
    "b[\"diff_36_COL_INTERCON. ELECTRICA_INDUST\"].plot()"
   ]
  },
  {
   "cell_type": "code",
   "execution_count": null,
   "metadata": {},
   "outputs": [],
   "source": []
  }
 ],
 "metadata": {
  "kernelspec": {
   "display_name": "Python 3.8.4 ('acciones': venv)",
   "language": "python",
   "name": "python3"
  },
  "language_info": {
   "codemirror_mode": {
    "name": "ipython",
    "version": 3
   },
   "file_extension": ".py",
   "mimetype": "text/x-python",
   "name": "python",
   "nbconvert_exporter": "python",
   "pygments_lexer": "ipython3",
   "version": "3.8.4"
  },
  "orig_nbformat": 4,
  "vscode": {
   "interpreter": {
    "hash": "304d6becdfb3fa180c60d45f35636481c81bb7e1920617f54c791577e1b660f7"
   }
  }
 },
 "nbformat": 4,
 "nbformat_minor": 2
}
